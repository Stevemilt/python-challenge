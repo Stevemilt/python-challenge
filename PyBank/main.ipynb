{
 "cells": [
  {
   "cell_type": "code",
   "execution_count": 1,
   "metadata": {},
   "outputs": [
    {
     "name": "stdout",
     "output_type": "stream",
     "text": [
      "Financial Analysis\n",
      "---------------------------\n",
      "Total Months : 86\n",
      "Total: $38382578\n",
      "Average Change: $-2315.12\n",
      "Greatest Increase in Profits: Feb-2012 ($1926159)\n",
      "Greatest Decrease in Profits: Sep-2013 ($-2196167)\n"
     ]
    }
   ],
   "source": [
    "import os\n",
    "import csv\n",
    " \n",
    "budget_csv = os.path.join('Resources','budget_data.csv')\n",
    " \n",
    "total_months = 0\n",
    "total = 0\n",
    "previous_profit = 0\n",
    "increase = 0\n",
    "decrease = 0\n",
    "average = 0\n",
    "change = 0\n",
    "change_month = 0\n",
    "increase_month = \"\"\n",
    "decrease_month = \"\"\n",
    " \n",
    "with open(budget_csv) as csvfile:\n",
    "    csvreader = csv.reader(csvfile, delimiter=\",\")\n",
    "    csv_header = next(csvreader)\n",
    "    \n",
    "    \n",
    "    for row in csvreader:\n",
    "        total_months = total_months + 1\n",
    "        total = total + int(row[1])\n",
    "        \n",
    "        \n",
    "        if total_months >1:\n",
    "            change = int(row[1]) - previous_profit\n",
    "        \n",
    "        change_month = change_month + change\n",
    "        previous_profit = int(row[1])\n",
    "        \n",
    "        if change > increase:\n",
    "            increase = change\n",
    "            increase_month = row[0]\n",
    "    \n",
    "        if change < decrease:\n",
    "            decrease = change\n",
    "            decrease_month = row[0]\n",
    "            \n",
    " \n",
    "average = change_month / (total_months -1)\n",
    " \n",
    "print(\"Financial Analysis\")\n",
    "print(\"---------------------------\")\n",
    "print(f\"Total Months :\" , int(total_months))\n",
    "print(f\"Total: ${int(total)}\")\n",
    "print(\"Average Change: $\" + str(format(average, '.2f')))\n",
    "print(\"Greatest Increase in Profits: \" + increase_month + \" ($\" + str(increase) + \")\")\n",
    "print(\"Greatest Decrease in Profits: \" + decrease_month + \" ($\" + str(decrease) + \")\")\n",
    "\n",
    "new = open(\"Analysis/Financial Analysis.txt\", \"w\")\n",
    "\n",
    "new.write(\"Financial Analysis\\n\")\n",
    "new.write(\"----------------------------\\n\")        \n",
    "new.write(\"Total Months: \" + str(total_months) + \"\\n\")\n",
    "new.write(\"Total: $\" + str(total) + \"\\n\")\n",
    "new.write(\"Average Change: $\" + str(format(average, '.2f')) + \"\\n\")\n",
    "new.write(\"Greatest Increase in Profits: \" + increase_month + \" ($\" + str(increase) + \")\\n\")\n",
    "new.write(\"Greatest Decrease in Profits: \" + decrease_month + \" ($\" + str(decrease) + \")\\n\")\n",
    "new.close()"
   ]
  }
 ],
 "metadata": {
  "kernelspec": {
   "display_name": "Python 3",
   "language": "python",
   "name": "python3"
  },
  "language_info": {
   "codemirror_mode": {
    "name": "ipython",
    "version": 3
   },
   "file_extension": ".py",
   "mimetype": "text/x-python",
   "name": "python",
   "nbconvert_exporter": "python",
   "pygments_lexer": "ipython3",
   "version": "3.7.9"
  }
 },
 "nbformat": 4,
 "nbformat_minor": 4
}
