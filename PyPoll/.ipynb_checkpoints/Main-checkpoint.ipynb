{
 "cells": [
  {
   "cell_type": "code",
   "execution_count": 5,
   "metadata": {},
   "outputs": [
    {
     "name": "stdout",
     "output_type": "stream",
     "text": [
      "Election Results\n",
      "-------------------------\n",
      "Total Votes: 3521001\n",
      "-------------------------\n",
      "Khan: 63.000% (2218231)\n",
      "Correy: 20.000% (704200)\n",
      "Li: 14.000% (492940)\n",
      "O'Tooley: 3.000% (105630)\n",
      "-------------------------\n",
      "Winner: Khan\n",
      "-------------------------\n"
     ]
    }
   ],
   "source": [
    "import os\n",
    "import csv\n",
    " \n",
    "election_data = os.path.join(\"Resources\", \"election_data.csv\")\n",
    " \n",
    "vote_list = []\n",
    "candidate = \"\"\n",
    "percentage = []\n",
    "total_votes = 0\n",
    "winner = \"\"\n",
    "candidate_list = []\n",
    " \n",
    "with open(election_data) as csvfile:\n",
    "    csvreader = csv.reader(csvfile, delimiter=\",\")\n",
    "    next(csvreader, None)\n",
    "    #row = next(csvreader)\n",
    "   \n",
    "    for row in csvreader:\n",
    "        total_votes = total_votes + 1\n",
    "       \n",
    "        if row[2] not in candidate_list:\n",
    "            candidate_list.append(row[2])\n",
    "            vote_list.append(1)\n",
    "        else:\n",
    "            vote_list[candidate_list.index(row[2])] += 1\n",
    "           \n",
    "    #Calculating the percentage\n",
    "    for x in vote_list:\n",
    "        percentage.append(round(x/total_votes*100, 3))\n",
    "   \n",
    "    #Winner\n",
    "           \n",
    "    winner = candidate_list[vote_list.index(max(vote_list))]\n",
    "   \n",
    "    \n",
    "print(\"Election Results\")\n",
    "print(\"-------------------------\")\n",
    "print(\"Total Votes: \" + str(total_votes))\n",
    "print(\"-------------------------\")\n",
    "for x in candidate_list:\n",
    "    print(x + \": \" + str(format(percentage[candidate_list.index(x)], '.3f'))\n",
    "        + \"% (\" + str(vote_list[candidate_list.index(x)]) + \")\")\n",
    "print(\"-------------------------\")\n",
    "print(\"Winner: \" + winner)\n",
    "print(\"-------------------------\")\n",
    " \n",
    "#creating txt\n",
    " \n",
    "new = open(\"Election Results.txt\", \"w\")\n",
    "new.write(\"Election Results\\n\")\n",
    "new.write(\"-------------------------\\n\")\n",
    "new.write(\"Total Votes: \" + str(total_votes)+\"\\n\")\n",
    "new.write(\"-------------------------\\n\")\n",
    "for x in candidate_list:\n",
    "    new.write(x + \": \" + str(format(percentage[candidate_list.index(x)], '.3f'))\n",
    "        + \"% (\" + str(vote_list[candidate_list.index(x)]) + \")\\n\")\n",
    "new.write(\"-------------------------\\n\")\n",
    "new.write(\"Winner: \" + winner + \"\\n\")\n",
    "new.write(\"-------------------------\\n\")\n",
    "new.close()"
   ]
  }
 ],
 "metadata": {
  "kernelspec": {
   "display_name": "Python 3",
   "language": "python",
   "name": "python3"
  },
  "language_info": {
   "codemirror_mode": {
    "name": "ipython",
    "version": 3
   },
   "file_extension": ".py",
   "mimetype": "text/x-python",
   "name": "python",
   "nbconvert_exporter": "python",
   "pygments_lexer": "ipython3",
   "version": "3.7.9"
  }
 },
 "nbformat": 4,
 "nbformat_minor": 4
}
